{
 "cells": [
  {
   "cell_type": "code",
   "execution_count": 1,
   "metadata": {},
   "outputs": [],
   "source": [
    "import pandas as pd\n",
    "import time\n",
    "import torch\n",
    "import random\n",
    "import torch"
   ]
  },
  {
   "cell_type": "code",
   "execution_count": 2,
   "metadata": {},
   "outputs": [],
   "source": [
    "def encrypt_sequence(x):\n",
    "    y = []\n",
    "    y.append(x[0])\n",
    "    for i in range(1, len(x)):\n",
    "        if x[i] + x[0] >= 10:\n",
    "            y.append(x[i] + x[0] - 10)\n",
    "        else:\n",
    "            y.append(x[i] + x[0])\n",
    "    return y"
   ]
  },
  {
   "cell_type": "code",
   "execution_count": 3,
   "metadata": {},
   "outputs": [
    {
     "name": "stdout",
     "output_type": "stream",
     "text": [
      "[1, 3, 6, 4, 6, 5, 0, 4, 7, 0, 3, 5]\n",
      "[1, 4, 7, 5, 7, 6, 1, 5, 8, 1, 4, 6]\n"
     ]
    }
   ],
   "source": [
    "lst = []\n",
    "num_chars = 12\n",
    "for i in range(num_chars):\n",
    "    lst.append(random.randint(0, 9))\n",
    "print(lst)\n",
    "lst_encrypted = encrypt_sequence(lst)\n",
    "print(encrypt_sequence(lst))"
   ]
  },
  {
   "cell_type": "code",
   "execution_count": 4,
   "metadata": {},
   "outputs": [],
   "source": [
    "def dataset(num_examples):\n",
    "\n",
    "    dataset_in = []\n",
    "    dataset_out = []\n",
    "    for x in range(num_examples):\n",
    "        seq_out = []\n",
    "        for i in range(num_chars):\n",
    "            seq_out.append(random.randint(0, 9))\n",
    "        seq_in = encrypt_sequence(seq_out)\n",
    "        \n",
    "        dataset_in.append(torch.tensor(seq_out))\n",
    "        dataset_out.append(torch.tensor(seq_in))\n",
    "        \n",
    "    return torch.stack(dataset_in), torch.stack(dataset_out)"
   ]
  },
  {
   "cell_type": "code",
   "execution_count": 5,
   "metadata": {},
   "outputs": [
    {
     "data": {
      "text/plain": [
       "(torch.Size([5000, 12]), torch.Size([5000, 12]))"
      ]
     },
     "execution_count": 5,
     "metadata": {},
     "output_type": "execute_result"
    }
   ],
   "source": [
    "num_examples = 5000\n",
    "di, do = dataset(num_examples)\n",
    "di.shape, do.shape"
   ]
  },
  {
   "cell_type": "code",
   "execution_count": 6,
   "metadata": {},
   "outputs": [],
   "source": [
    "class NN(torch.nn.Module):\n",
    "    def __init__(self, rnnClass, dictionary_size, embedding_size, num_hiddens, num_classes):\n",
    "        super().__init__()\n",
    "        \n",
    "        self.num_hiddens = num_hiddens\n",
    "        self.embedding = torch.nn.Embedding(dictionary_size, embedding_size)\n",
    "        self.hidden = rnnClass(embedding_size, num_hiddens, batch_first = True)\n",
    "        self.output = torch.nn.Linear(num_hiddens, num_classes)\n",
    "    \n",
    "    def forward(self, X):\n",
    "        out = self.embedding(X)\n",
    "        o1, state = self.hidden(out)\n",
    "        predictions = self.output(o1)\n",
    "        return predictions"
   ]
  },
  {
   "cell_type": "code",
   "execution_count": 7,
   "metadata": {},
   "outputs": [
    {
     "data": {
      "text/plain": [
       "(torch.Size([100, 12]), torch.Size([100, 12]))"
      ]
     },
     "execution_count": 7,
     "metadata": {},
     "output_type": "execute_result"
    }
   ],
   "source": [
    "test_dsi, test_dso = dataset(100)\n",
    "test_dsi.shape, test_dso.shape"
   ]
  },
  {
   "cell_type": "markdown",
   "metadata": {},
   "source": [
    "## 1. GRU"
   ]
  },
  {
   "cell_type": "code",
   "execution_count": 24,
   "metadata": {},
   "outputs": [],
   "source": [
    "model = NN(torch.nn.GRU, 10, 128, 256, 10)"
   ]
  },
  {
   "cell_type": "code",
   "execution_count": 25,
   "metadata": {},
   "outputs": [],
   "source": [
    "criterion = torch.nn.CrossEntropyLoss()\n",
    "optimizer = torch.optim.Adam(model.parameters(), lr = 0.0001)"
   ]
  },
  {
   "cell_type": "code",
   "execution_count": 26,
   "metadata": {},
   "outputs": [
    {
     "name": "stderr",
     "output_type": "stream",
     "text": [
      "<ipython-input-26-2028a5faea00>:23: UserWarning: To copy construct from a tensor, it is recommended to use sourceTensor.clone().detach() or sourceTensor.clone().detach().requires_grad_(True), rather than torch.tensor(sourceTensor).\n",
      "  o2 = model(torch.tensor(test_dsi[i]))\n"
     ]
    },
    {
     "name": "stdout",
     "output_type": "stream",
     "text": [
      "Epoch 0. Time: 1.008, Train loss: 2.296, Accuracy: 0.153\n",
      "Epoch 1. Time: 1.012, Train loss: 2.272, Accuracy: 0.158\n",
      "Epoch 2. Time: 1.028, Train loss: 2.263, Accuracy: 0.157\n",
      "Epoch 3. Time: 1.062, Train loss: 2.255, Accuracy: 0.157\n",
      "Epoch 4. Time: 1.031, Train loss: 2.246, Accuracy: 0.158\n",
      "Epoch 5. Time: 1.018, Train loss: 2.234, Accuracy: 0.159\n",
      "Epoch 6. Time: 0.979, Train loss: 2.214, Accuracy: 0.166\n",
      "Epoch 7. Time: 1.044, Train loss: 2.186, Accuracy: 0.177\n",
      "Epoch 8. Time: 1.015, Train loss: 2.148, Accuracy: 0.199\n",
      "Epoch 9. Time: 1.023, Train loss: 2.085, Accuracy: 0.253\n",
      "Epoch 10. Time: 1.014, Train loss: 1.964, Accuracy: 0.285\n",
      "Epoch 11. Time: 1.034, Train loss: 1.868, Accuracy: 0.350\n",
      "Epoch 12. Time: 1.007, Train loss: 1.765, Accuracy: 0.450\n",
      "Epoch 13. Time: 1.031, Train loss: 1.629, Accuracy: 0.567\n",
      "Epoch 14. Time: 0.918, Train loss: 1.461, Accuracy: 0.676\n",
      "Epoch 15. Time: 0.903, Train loss: 1.279, Accuracy: 0.784\n",
      "Epoch 16. Time: 0.894, Train loss: 1.089, Accuracy: 0.881\n",
      "Epoch 17. Time: 0.967, Train loss: 0.889, Accuracy: 0.943\n",
      "Epoch 18. Time: 1.008, Train loss: 0.698, Accuracy: 0.989\n",
      "Epoch 19. Time: 0.909, Train loss: 0.533, Accuracy: 0.995\n",
      "Epoch 20. Time: 0.909, Train loss: 0.404, Accuracy: 1.000\n",
      "Epoch 21. Time: 0.911, Train loss: 0.308, Accuracy: 1.000\n",
      "Epoch 22. Time: 0.971, Train loss: 0.239, Accuracy: 1.000\n",
      "Epoch 23. Time: 0.981, Train loss: 0.189, Accuracy: 1.000\n",
      "Epoch 24. Time: 0.984, Train loss: 0.152, Accuracy: 1.000\n"
     ]
    }
   ],
   "source": [
    "for ep in range(25):\n",
    "    start = time.time()\n",
    "    train_loss = 0.\n",
    "    train_passed = 0\n",
    "\n",
    "    for i in range(int(len(di) / 50)):\n",
    "        batch = di[i * 10:(i + 1) * 10]\n",
    "        batch2 = do[i * 10:(i + 1) * 10]\n",
    "        \n",
    "        optimizer.zero_grad()\n",
    "        answers = model.forward(batch)\n",
    "        #print(answers.shape)\n",
    "        loss = criterion(answers.view(-1, 10), batch2.flatten())\n",
    "        train_loss += loss.item()\n",
    "\n",
    "        loss.backward()\n",
    "        optimizer.step()\n",
    "        train_passed += 1\n",
    "\n",
    "    if True:\n",
    "        acc = 0\n",
    "        for i in range(len(test_dsi)):\n",
    "            o2 = model(torch.tensor(test_dsi[i]))\n",
    "            #print(o2.shape)\n",
    "            w = torch.argmax(o2, dim = 1)\n",
    "            #print(w)\n",
    "            o1 = torch.tensor(encrypt_sequence(test_dsi[i]))\n",
    "            #print(o1)\n",
    "            c = 0\n",
    "            for j in range(num_chars):\n",
    "                if w[j] == o1[j]:\n",
    "                    c += 1\n",
    "            acc += c/num_chars\n",
    "        acc /= len(test_dsi)\n",
    "        print(\"Epoch {}. Time: {:.3f}, Train loss: {:.3f}, Accuracy: {:.3f}\".format(ep, time.time() - start, train_loss / train_passed, acc))\n"
   ]
  },
  {
   "cell_type": "code",
   "execution_count": 27,
   "metadata": {},
   "outputs": [
    {
     "name": "stdout",
     "output_type": "stream",
     "text": [
      "[1, 4, 7, 5, 7, 6, 1, 5, 8, 1, 4, 6]\n",
      "tensor([1, 4, 7, 5, 7, 6, 1, 5, 8, 1, 4, 6])\n"
     ]
    }
   ],
   "source": [
    "print(encrypt_sequence(lst))\n",
    "print(torch.argmax(model(torch.tensor(lst)), dim = 1))"
   ]
  },
  {
   "cell_type": "markdown",
   "metadata": {},
   "source": [
    "## 2. RNN"
   ]
  },
  {
   "cell_type": "code",
   "execution_count": 32,
   "metadata": {},
   "outputs": [],
   "source": [
    "model2 = NN(torch.nn.RNN, 10, 128, 256, 10)"
   ]
  },
  {
   "cell_type": "code",
   "execution_count": 33,
   "metadata": {},
   "outputs": [],
   "source": [
    "criterion = torch.nn.CrossEntropyLoss()\n",
    "optimizer = torch.optim.Adam(model2.parameters(), lr = 0.0001)"
   ]
  },
  {
   "cell_type": "code",
   "execution_count": 34,
   "metadata": {},
   "outputs": [
    {
     "name": "stderr",
     "output_type": "stream",
     "text": [
      "<ipython-input-34-a728668cc391>:23: UserWarning: To copy construct from a tensor, it is recommended to use sourceTensor.clone().detach() or sourceTensor.clone().detach().requires_grad_(True), rather than torch.tensor(sourceTensor).\n",
      "  o2 = model2(torch.tensor(test_dsi[i]))\n"
     ]
    },
    {
     "name": "stdout",
     "output_type": "stream",
     "text": [
      "Epoch 0. Time: 0.519, Train loss: 2.296, Accuracy: 0.157\n",
      "Epoch 1. Time: 0.497, Train loss: 2.267, Accuracy: 0.157\n",
      "Epoch 2. Time: 0.500, Train loss: 2.262, Accuracy: 0.157\n",
      "Epoch 3. Time: 0.463, Train loss: 2.259, Accuracy: 0.157\n",
      "Epoch 4. Time: 0.476, Train loss: 2.256, Accuracy: 0.157\n",
      "Epoch 5. Time: 0.456, Train loss: 2.253, Accuracy: 0.157\n",
      "Epoch 6. Time: 0.557, Train loss: 2.250, Accuracy: 0.157\n",
      "Epoch 7. Time: 0.509, Train loss: 2.246, Accuracy: 0.157\n",
      "Epoch 8. Time: 0.532, Train loss: 2.241, Accuracy: 0.157\n",
      "Epoch 9. Time: 0.509, Train loss: 2.235, Accuracy: 0.158\n",
      "Epoch 10. Time: 0.506, Train loss: 2.226, Accuracy: 0.158\n",
      "Epoch 11. Time: 0.489, Train loss: 2.211, Accuracy: 0.159\n",
      "Epoch 12. Time: 0.454, Train loss: 2.179, Accuracy: 0.166\n",
      "Epoch 13. Time: 0.471, Train loss: 2.136, Accuracy: 0.178\n",
      "Epoch 14. Time: 0.483, Train loss: 2.093, Accuracy: 0.203\n",
      "Epoch 15. Time: 0.458, Train loss: 2.052, Accuracy: 0.225\n",
      "Epoch 16. Time: 0.515, Train loss: 2.016, Accuracy: 0.235\n",
      "Epoch 17. Time: 0.470, Train loss: 1.987, Accuracy: 0.243\n",
      "Epoch 18. Time: 0.492, Train loss: 1.958, Accuracy: 0.245\n",
      "Epoch 19. Time: 0.472, Train loss: 1.933, Accuracy: 0.247\n",
      "Epoch 20. Time: 0.497, Train loss: 1.912, Accuracy: 0.247\n",
      "Epoch 21. Time: 0.525, Train loss: 1.894, Accuracy: 0.251\n",
      "Epoch 22. Time: 0.464, Train loss: 1.878, Accuracy: 0.247\n",
      "Epoch 23. Time: 0.477, Train loss: 1.862, Accuracy: 0.255\n",
      "Epoch 24. Time: 0.480, Train loss: 1.848, Accuracy: 0.260\n",
      "Epoch 25. Time: 0.461, Train loss: 1.836, Accuracy: 0.266\n",
      "Epoch 26. Time: 0.479, Train loss: 1.823, Accuracy: 0.272\n",
      "Epoch 27. Time: 0.508, Train loss: 1.812, Accuracy: 0.279\n",
      "Epoch 28. Time: 0.491, Train loss: 1.800, Accuracy: 0.279\n",
      "Epoch 29. Time: 0.491, Train loss: 1.788, Accuracy: 0.287\n",
      "Epoch 30. Time: 0.479, Train loss: 1.776, Accuracy: 0.296\n",
      "Epoch 31. Time: 0.468, Train loss: 1.762, Accuracy: 0.313\n",
      "Epoch 32. Time: 0.516, Train loss: 1.749, Accuracy: 0.318\n",
      "Epoch 33. Time: 0.519, Train loss: 1.729, Accuracy: 0.339\n",
      "Epoch 34. Time: 0.543, Train loss: 1.693, Accuracy: 0.378\n",
      "Epoch 35. Time: 0.502, Train loss: 1.607, Accuracy: 0.449\n",
      "Epoch 36. Time: 0.529, Train loss: 1.499, Accuracy: 0.502\n",
      "Epoch 37. Time: 0.536, Train loss: 1.393, Accuracy: 0.522\n",
      "Epoch 38. Time: 0.512, Train loss: 1.306, Accuracy: 0.543\n",
      "Epoch 39. Time: 0.535, Train loss: 1.233, Accuracy: 0.557\n",
      "Epoch 40. Time: 0.539, Train loss: 1.173, Accuracy: 0.576\n",
      "Epoch 41. Time: 0.528, Train loss: 1.119, Accuracy: 0.602\n",
      "Epoch 42. Time: 0.536, Train loss: 1.063, Accuracy: 0.625\n",
      "Epoch 43. Time: 0.542, Train loss: 1.000, Accuracy: 0.635\n",
      "Epoch 44. Time: 0.544, Train loss: 0.942, Accuracy: 0.661\n",
      "Epoch 45. Time: 0.521, Train loss: 0.891, Accuracy: 0.687\n",
      "Epoch 46. Time: 0.524, Train loss: 0.843, Accuracy: 0.718\n",
      "Epoch 47. Time: 0.512, Train loss: 0.796, Accuracy: 0.754\n",
      "Epoch 48. Time: 0.576, Train loss: 0.747, Accuracy: 0.798\n",
      "Epoch 49. Time: 0.539, Train loss: 0.696, Accuracy: 0.830\n",
      "Epoch 50. Time: 0.565, Train loss: 0.644, Accuracy: 0.863\n",
      "Epoch 51. Time: 0.554, Train loss: 0.593, Accuracy: 0.887\n",
      "Epoch 52. Time: 0.562, Train loss: 0.544, Accuracy: 0.903\n",
      "Epoch 53. Time: 0.550, Train loss: 0.499, Accuracy: 0.919\n",
      "Epoch 54. Time: 0.551, Train loss: 0.458, Accuracy: 0.929\n",
      "Epoch 55. Time: 0.567, Train loss: 0.417, Accuracy: 0.954\n",
      "Epoch 56. Time: 0.522, Train loss: 0.376, Accuracy: 0.982\n",
      "Epoch 57. Time: 0.553, Train loss: 0.335, Accuracy: 0.988\n",
      "Epoch 58. Time: 0.560, Train loss: 0.299, Accuracy: 0.994\n",
      "Epoch 59. Time: 0.547, Train loss: 0.267, Accuracy: 0.995\n",
      "Epoch 60. Time: 0.542, Train loss: 0.239, Accuracy: 0.998\n",
      "Epoch 61. Time: 0.550, Train loss: 0.215, Accuracy: 0.998\n",
      "Epoch 62. Time: 0.561, Train loss: 0.194, Accuracy: 0.998\n",
      "Epoch 63. Time: 0.541, Train loss: 0.175, Accuracy: 0.998\n",
      "Epoch 64. Time: 0.563, Train loss: 0.158, Accuracy: 0.998\n",
      "Epoch 65. Time: 0.536, Train loss: 0.144, Accuracy: 0.998\n",
      "Epoch 66. Time: 0.555, Train loss: 0.131, Accuracy: 0.998\n",
      "Epoch 67. Time: 0.527, Train loss: 0.119, Accuracy: 1.000\n",
      "Epoch 68. Time: 0.530, Train loss: 0.109, Accuracy: 1.000\n",
      "Epoch 69. Time: 0.542, Train loss: 0.099, Accuracy: 1.000\n"
     ]
    }
   ],
   "source": [
    "for ep in range(70):\n",
    "    start = time.time()\n",
    "    train_loss = 0.\n",
    "    train_passed = 0\n",
    "\n",
    "    for i in range(int(len(di) / 50)):\n",
    "        batch = di[i * 10:(i + 1) * 10]\n",
    "        batch2 = do[i * 10:(i + 1) * 10]\n",
    "        \n",
    "        optimizer.zero_grad()\n",
    "        answers = model2.forward(batch)\n",
    "        #print(answers.shape)\n",
    "        loss = criterion(answers.view(-1, 10), batch2.flatten())\n",
    "        train_loss += loss.item()\n",
    "\n",
    "        loss.backward()\n",
    "        optimizer.step()\n",
    "        train_passed += 1\n",
    "\n",
    "    if True:\n",
    "        acc = 0\n",
    "        for i in range(len(test_dsi)):\n",
    "            o2 = model2(torch.tensor(test_dsi[i]))\n",
    "            #print(o2.shape)\n",
    "            w = torch.argmax(o2, dim = 1)\n",
    "            #print(w)\n",
    "            o1 = torch.tensor(encrypt_sequence(test_dsi[i]))\n",
    "            #print(o1)\n",
    "            c = 0\n",
    "            for j in range(num_chars):\n",
    "                if w[j] == o1[j]:\n",
    "                    c += 1\n",
    "            acc += c/num_chars\n",
    "        acc /= len(test_dsi)\n",
    "        print(\"Epoch {}. Time: {:.3f}, Train loss: {:.3f}, Accuracy: {:.3f}\".format(ep, time.time() - start, train_loss / train_passed, acc))\n"
   ]
  },
  {
   "cell_type": "code",
   "execution_count": 35,
   "metadata": {},
   "outputs": [
    {
     "name": "stdout",
     "output_type": "stream",
     "text": [
      "[1, 4, 7, 5, 7, 6, 1, 5, 8, 1, 4, 6]\n",
      "tensor([1, 4, 7, 5, 7, 6, 1, 5, 8, 1, 4, 6])\n"
     ]
    }
   ],
   "source": [
    "print(encrypt_sequence(lst))\n",
    "print(torch.argmax(model2(torch.tensor(lst)), dim = 1))"
   ]
  },
  {
   "cell_type": "markdown",
   "metadata": {},
   "source": [
    "## 3. LSTM"
   ]
  },
  {
   "cell_type": "code",
   "execution_count": 42,
   "metadata": {},
   "outputs": [],
   "source": [
    "model3 = NN(torch.nn.LSTM, 10, 128, 256, 10)"
   ]
  },
  {
   "cell_type": "code",
   "execution_count": 43,
   "metadata": {},
   "outputs": [],
   "source": [
    "criterion = torch.nn.CrossEntropyLoss()\n",
    "optimizer = torch.optim.Adam(model3.parameters(), lr = 0.0001)"
   ]
  },
  {
   "cell_type": "code",
   "execution_count": 44,
   "metadata": {},
   "outputs": [
    {
     "name": "stderr",
     "output_type": "stream",
     "text": [
      "<ipython-input-44-e8d1c7323ce7>:23: UserWarning: To copy construct from a tensor, it is recommended to use sourceTensor.clone().detach() or sourceTensor.clone().detach().requires_grad_(True), rather than torch.tensor(sourceTensor).\n",
      "  o2 = model3(torch.tensor(test_dsi[i]))\n"
     ]
    },
    {
     "name": "stdout",
     "output_type": "stream",
     "text": [
      "Epoch 0. Time: 1.844, Train loss: 2.293, Accuracy: 0.158\n",
      "Epoch 1. Time: 1.767, Train loss: 2.276, Accuracy: 0.158\n",
      "Epoch 2. Time: 1.783, Train loss: 2.265, Accuracy: 0.157\n",
      "Epoch 3. Time: 1.913, Train loss: 2.255, Accuracy: 0.157\n",
      "Epoch 4. Time: 1.715, Train loss: 2.240, Accuracy: 0.161\n",
      "Epoch 5. Time: 1.829, Train loss: 2.206, Accuracy: 0.187\n",
      "Epoch 6. Time: 1.782, Train loss: 2.116, Accuracy: 0.281\n",
      "Epoch 7. Time: 1.755, Train loss: 1.979, Accuracy: 0.350\n",
      "Epoch 8. Time: 1.839, Train loss: 1.815, Accuracy: 0.444\n",
      "Epoch 9. Time: 1.871, Train loss: 1.607, Accuracy: 0.570\n",
      "Epoch 10. Time: 1.986, Train loss: 1.368, Accuracy: 0.704\n",
      "Epoch 11. Time: 1.974, Train loss: 1.117, Accuracy: 0.822\n",
      "Epoch 12. Time: 2.047, Train loss: 0.878, Accuracy: 0.932\n",
      "Epoch 13. Time: 2.015, Train loss: 0.679, Accuracy: 0.976\n",
      "Epoch 14. Time: 2.038, Train loss: 0.519, Accuracy: 0.990\n",
      "Epoch 15. Time: 2.006, Train loss: 0.397, Accuracy: 0.994\n",
      "Epoch 16. Time: 2.016, Train loss: 0.305, Accuracy: 0.997\n",
      "Epoch 17. Time: 2.058, Train loss: 0.237, Accuracy: 0.998\n",
      "Epoch 18. Time: 2.061, Train loss: 0.187, Accuracy: 1.000\n",
      "Epoch 19. Time: 2.007, Train loss: 0.150, Accuracy: 1.000\n"
     ]
    }
   ],
   "source": [
    "for ep in range(20):\n",
    "    start = time.time()\n",
    "    train_loss = 0.\n",
    "    train_passed = 0\n",
    "\n",
    "    for i in range(int(len(di) / 50)):\n",
    "        batch = di[i * 10:(i + 1) * 10]\n",
    "        batch2 = do[i * 10:(i + 1) * 10]\n",
    "        \n",
    "        optimizer.zero_grad()\n",
    "        answers = model3.forward(batch)\n",
    "        #print(answers.shape)\n",
    "        loss = criterion(answers.view(-1, 10), batch2.flatten())\n",
    "        train_loss += loss.item()\n",
    "\n",
    "        loss.backward()\n",
    "        optimizer.step()\n",
    "        train_passed += 1\n",
    "\n",
    "    if True:\n",
    "        acc = 0\n",
    "        for i in range(len(test_dsi)):\n",
    "            o2 = model3(torch.tensor(test_dsi[i]))\n",
    "            #print(o2.shape)\n",
    "            w = torch.argmax(o2, dim = 1)\n",
    "            #print(w)\n",
    "            o1 = torch.tensor(encrypt_sequence(test_dsi[i]))\n",
    "            #print(o1)\n",
    "            c = 0\n",
    "            for j in range(num_chars):\n",
    "                if w[j] == o1[j]:\n",
    "                    c += 1\n",
    "            acc += c/num_chars\n",
    "        acc /= len(test_dsi)\n",
    "        print(\"Epoch {}. Time: {:.3f}, Train loss: {:.3f}, Accuracy: {:.3f}\".format(ep, time.time() - start, train_loss / train_passed, acc))\n"
   ]
  },
  {
   "cell_type": "code",
   "execution_count": 45,
   "metadata": {},
   "outputs": [
    {
     "name": "stdout",
     "output_type": "stream",
     "text": [
      "[1, 4, 7, 5, 7, 6, 1, 5, 8, 1, 4, 6]\n",
      "tensor([1, 4, 7, 5, 7, 6, 1, 5, 8, 1, 4, 6])\n"
     ]
    }
   ],
   "source": [
    "print(encrypt_sequence(lst))\n",
    "print(torch.argmax(model2(torch.tensor(lst)), dim = 1))"
   ]
  },
  {
   "cell_type": "code",
   "execution_count": null,
   "metadata": {},
   "outputs": [],
   "source": []
  }
 ],
 "metadata": {
  "kernelspec": {
   "display_name": "Python 3",
   "language": "python",
   "name": "python3"
  },
  "language_info": {
   "codemirror_mode": {
    "name": "ipython",
    "version": 3
   },
   "file_extension": ".py",
   "mimetype": "text/x-python",
   "name": "python",
   "nbconvert_exporter": "python",
   "pygments_lexer": "ipython3",
   "version": "3.8.5"
  }
 },
 "nbformat": 4,
 "nbformat_minor": 4
}
